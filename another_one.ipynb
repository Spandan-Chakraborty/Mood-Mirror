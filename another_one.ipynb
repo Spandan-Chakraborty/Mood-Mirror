{
 "cells": [
  {
   "cell_type": "code",
   "execution_count": 6,
   "id": "ff1c374e-793b-4a76-9c2f-5a67b11ca04b",
   "metadata": {},
   "outputs": [],
   "source": [
    "from deepface import DeepFace\n",
    "import warnings\n",
    "warnings.filterwarnings(\"ignore\")"
   ]
  },
  {
   "cell_type": "code",
   "execution_count": 7,
   "id": "2b9719e0-a65e-4850-9f4f-4b4abc622524",
   "metadata": {},
   "outputs": [],
   "source": [
    "backends = [\n",
    "  'opencv', \n",
    "  'ssd', \n",
    "  'dlib', \n",
    "  'mtcnn', \n",
    "  'fastmtcnn',\n",
    "  'retinaface', \n",
    "  'mediapipe',\n",
    "  'yolov8',\n",
    "  'yunet',\n",
    "  'centerface',\n",
    "]\n",
    "\n",
    "alignment_modes = [True, False]"
   ]
  },
  {
   "cell_type": "code",
   "execution_count": null,
   "id": "6e1c9c5c",
   "metadata": {},
   "outputs": [],
   "source": [
    "with open(\"input_path.txt\", \"r\") as f:\n",
    "    img_path = f.read().strip()\n"
   ]
  },
  {
   "cell_type": "code",
   "execution_count": null,
   "id": "fc1836c5-c484-4906-89f3-6499c062a359",
   "metadata": {},
   "outputs": [],
   "source": [
    "demographies = DeepFace.analyze(\n",
    "  img_path = img_path, \n",
    "  detector_backend = backends[0],\n",
    "  align = alignment_modes[0],\n",
    "  actions=['emotion']\n",
    ")"
   ]
  },
  {
   "cell_type": "code",
   "execution_count": null,
   "id": "515e45ee-3721-4ffb-b3ff-8edb369547fc",
   "metadata": {},
   "outputs": [
    {
     "name": "stdout",
     "output_type": "stream",
     "text": [
      "Detected emotion: happy\n"
     ]
    }
   ],
   "source": [
    "dominant_emotion = demographies[0]['dominant_emotion']"
   ]
  },
  {
   "cell_type": "code",
   "execution_count": null,
   "id": "a5f77fbc-012a-4e8a-b7db-e07738a9e9c2",
   "metadata": {},
   "outputs": [
    {
     "name": "stdout",
     "output_type": "stream",
     "text": [
      "dominant_emotion: happy\n",
      "age: 26\n",
      "dominant_gender: Man\n",
      "dominant_race: latino hispanic\n"
     ]
    }
   ],
   "source": [
    "with open(\"output.txt\", \"w\") as f:\n",
    "    f.write(dominant_emotion)"
   ]
  }
 ],
 "metadata": {
  "kernelspec": {
   "display_name": "myenv",
   "language": "python",
   "name": "python3"
  },
  "language_info": {
   "codemirror_mode": {
    "name": "ipython",
    "version": 3
   },
   "file_extension": ".py",
   "mimetype": "text/x-python",
   "name": "python",
   "nbconvert_exporter": "python",
   "pygments_lexer": "ipython3",
   "version": "3.12.3"
  }
 },
 "nbformat": 4,
 "nbformat_minor": 5
}
