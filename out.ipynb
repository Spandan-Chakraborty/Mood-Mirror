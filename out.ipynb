{
 "cells": [
  {
   "cell_type": "code",
   "execution_count": 1,
   "id": "ff1c374e-793b-4a76-9c2f-5a67b11ca04b",
   "metadata": {
    "execution": {
     "iopub.execute_input": "2025-05-17T16:34:42.257500Z",
     "iopub.status.busy": "2025-05-17T16:34:42.256500Z",
     "iopub.status.idle": "2025-05-17T16:34:59.977358Z",
     "shell.execute_reply": "2025-05-17T16:34:59.975278Z"
    },
    "papermill": {
     "duration": 17.730609,
     "end_time": "2025-05-17T16:34:59.980965",
     "exception": false,
     "start_time": "2025-05-17T16:34:42.250356",
     "status": "completed"
    },
    "tags": []
   },
   "outputs": [
    {
     "name": "stdout",
     "output_type": "stream",
     "text": [
      "WARNING:tensorflow:From C:\\Users\\chakr\\Documents\\All about coding\\Deepface\\myenv\\Lib\\site-packages\\tf_keras\\src\\losses.py:2976: The name tf.losses.sparse_softmax_cross_entropy is deprecated. Please use tf.compat.v1.losses.sparse_softmax_cross_entropy instead.\n",
      "\n"
     ]
    }
   ],
   "source": [
    "from deepface import DeepFace\n",
    "import warnings\n",
    "warnings.filterwarnings(\"ignore\")"
   ]
  },
  {
   "cell_type": "code",
   "execution_count": 2,
   "id": "2b9719e0-a65e-4850-9f4f-4b4abc622524",
   "metadata": {
    "execution": {
     "iopub.execute_input": "2025-05-17T16:35:00.030493Z",
     "iopub.status.busy": "2025-05-17T16:35:00.029471Z",
     "iopub.status.idle": "2025-05-17T16:35:00.109921Z",
     "shell.execute_reply": "2025-05-17T16:35:00.095803Z"
    },
    "papermill": {
     "duration": 0.113169,
     "end_time": "2025-05-17T16:35:00.114933",
     "exception": false,
     "start_time": "2025-05-17T16:35:00.001764",
     "status": "completed"
    },
    "tags": []
   },
   "outputs": [],
   "source": [
    "backends = [\n",
    "  'opencv', \n",
    "  'ssd', \n",
    "  'dlib', \n",
    "  'mtcnn', \n",
    "  'fastmtcnn',\n",
    "  'retinaface', \n",
    "  'mediapipe',\n",
    "  'yolov8',\n",
    "  'yunet',\n",
    "  'centerface',\n",
    "]\n",
    "\n",
    "alignment_modes = [True, False]"
   ]
  },
  {
   "cell_type": "code",
   "execution_count": 3,
   "id": "6e1c9c5c",
   "metadata": {
    "execution": {
     "iopub.execute_input": "2025-05-17T16:35:00.220950Z",
     "iopub.status.busy": "2025-05-17T16:35:00.219853Z",
     "iopub.status.idle": "2025-05-17T16:35:00.291897Z",
     "shell.execute_reply": "2025-05-17T16:35:00.276980Z"
    },
    "papermill": {
     "duration": 0.109711,
     "end_time": "2025-05-17T16:35:00.296011",
     "exception": false,
     "start_time": "2025-05-17T16:35:00.186300",
     "status": "completed"
    },
    "tags": []
   },
   "outputs": [],
   "source": [
    "with open(\"input_path.txt\", \"r\") as f:\n",
    "    img_path = f.read().strip()\n"
   ]
  },
  {
   "cell_type": "code",
   "execution_count": 4,
   "id": "fc1836c5-c484-4906-89f3-6499c062a359",
   "metadata": {
    "execution": {
     "iopub.execute_input": "2025-05-17T16:35:00.401757Z",
     "iopub.status.busy": "2025-05-17T16:35:00.401252Z",
     "iopub.status.idle": "2025-05-17T16:35:06.541929Z",
     "shell.execute_reply": "2025-05-17T16:35:06.538813Z"
    },
    "papermill": {
     "duration": 6.188819,
     "end_time": "2025-05-17T16:35:06.545572",
     "exception": false,
     "start_time": "2025-05-17T16:35:00.356753",
     "status": "completed"
    },
    "tags": []
   },
   "outputs": [],
   "source": [
    "demographies = DeepFace.analyze(\n",
    "  img_path = img_path, \n",
    "  detector_backend = backends[0],\n",
    "  align = alignment_modes[0],\n",
    "  actions=['emotion']\n",
    ")"
   ]
  },
  {
   "cell_type": "code",
   "execution_count": 5,
   "id": "515e45ee-3721-4ffb-b3ff-8edb369547fc",
   "metadata": {
    "execution": {
     "iopub.execute_input": "2025-05-17T16:35:06.630880Z",
     "iopub.status.busy": "2025-05-17T16:35:06.630336Z",
     "iopub.status.idle": "2025-05-17T16:35:06.681649Z",
     "shell.execute_reply": "2025-05-17T16:35:06.669603Z"
    },
    "papermill": {
     "duration": 0.080998,
     "end_time": "2025-05-17T16:35:06.686649",
     "exception": false,
     "start_time": "2025-05-17T16:35:06.605651",
     "status": "completed"
    },
    "tags": []
   },
   "outputs": [],
   "source": [
    "dominant_emotion = demographies[0]['dominant_emotion']"
   ]
  },
  {
   "cell_type": "code",
   "execution_count": 6,
   "id": "a5f77fbc-012a-4e8a-b7db-e07738a9e9c2",
   "metadata": {
    "execution": {
     "iopub.execute_input": "2025-05-17T16:35:06.840438Z",
     "iopub.status.busy": "2025-05-17T16:35:06.839451Z",
     "iopub.status.idle": "2025-05-17T16:35:06.918231Z",
     "shell.execute_reply": "2025-05-17T16:35:06.903183Z"
    },
    "papermill": {
     "duration": 0.143106,
     "end_time": "2025-05-17T16:35:06.923517",
     "exception": false,
     "start_time": "2025-05-17T16:35:06.780411",
     "status": "completed"
    },
    "tags": []
   },
   "outputs": [],
   "source": [
    "with open(\"output.txt\", \"w\") as f:\n",
    "    f.write(dominant_emotion)"
   ]
  }
 ],
 "metadata": {
  "kernelspec": {
   "display_name": "myenv",
   "language": "python",
   "name": "python3"
  },
  "language_info": {
   "codemirror_mode": {
    "name": "ipython",
    "version": 3
   },
   "file_extension": ".py",
   "mimetype": "text/x-python",
   "name": "python",
   "nbconvert_exporter": "python",
   "pygments_lexer": "ipython3",
   "version": "3.12.3"
  },
  "papermill": {
   "default_parameters": {},
   "duration": 32.081014,
   "end_time": "2025-05-17T16:35:10.533716",
   "environment_variables": {},
   "exception": null,
   "input_path": "another_one.ipynb",
   "output_path": "out.ipynb",
   "parameters": {},
   "start_time": "2025-05-17T16:34:38.452702",
   "version": "2.6.0"
  }
 },
 "nbformat": 4,
 "nbformat_minor": 5
}